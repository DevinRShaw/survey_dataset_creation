{
  "nbformat": 4,
  "nbformat_minor": 0,
  "metadata": {
    "colab": {
      "provenance": []
    },
    "kernelspec": {
      "name": "python3",
      "display_name": "Python 3"
    },
    "language_info": {
      "name": "python"
    }
  },
  "cells": [
    {
      "cell_type": "code",
      "execution_count": 45,
      "metadata": {
        "id": "cf_NwpzdeUNy"
      },
      "outputs": [],
      "source": [
        "import pandas as pd\n",
        "from google.colab import files"
      ]
    },
    {
      "cell_type": "markdown",
      "source": [
        "# Initial Issues\n",
        "- Cannot load .xls filetype yet\n",
        "- Missing columns for 2021\n",
        "- Inconsitent datatypes in 2015 - 2017"
      ],
      "metadata": {
        "id": "RM3jvbpvfpql"
      }
    },
    {
      "cell_type": "code",
      "source": [
        "\n",
        "#create a dataframe for each file\n",
        "\n",
        "\n",
        "\n",
        "df_2015 = pd.read_excel('/content/2015 FEVS Indices.xls')\n",
        "\n",
        "#initial files were in xml format so I saved as .xlsx format in excel\n",
        "df_2016 = pd.read_excel('/content/2016 FEVS Indices.xls.xlsx')\n",
        "df_2017 = pd.read_excel('/content/2017 FEVS Indices.xls.xlsx')\n",
        "\n",
        "df_2018 = pd.read_excel('/content/2018 FEVS Indices.xlsx')\n",
        "df_2019 = pd.read_excel('/content/2019 FEVS Indices.xlsx')\n",
        "df_2020 = pd.read_excel('/content/2020 FEVS Indices.xlsx')\n",
        "df_2021 = pd.read_excel('/content/2021 FEVS Indices.xlsx')\n",
        "df_2022 = pd.read_excel('/content/2022 FEVS Indices.xlsx')\n"
      ],
      "metadata": {
        "id": "0-H0joDWem7n"
      },
      "execution_count": 46,
      "outputs": []
    },
    {
      "cell_type": "markdown",
      "source": [
        "# Standardizing Datatypes\n",
        "- 2015 is in percentage while rest are in decimal form"
      ],
      "metadata": {
        "id": "toZ-JrylTxfX"
      }
    },
    {
      "cell_type": "code",
      "source": [
        "# need code to convert the values for 2015 - 2017 from string % to decimals\n",
        "string_df_list = [df_2015, df_2016, df_2017]\n",
        "\n",
        "# for each dataframe, go through each column, check if it is a numerical stirng then remove percentage\n",
        "for df in string_df_list:\n",
        "  for column in df.columns:\n",
        "    # if cant convert to a string type then just carry on\n",
        "    try:\n",
        "      if column != \"Response Count\":\n",
        "        df[column] = df[column].apply(lambda x : int(str(x).replace(\"%\",\"\"))/100)\n",
        "    except:\n",
        "      continue\n"
      ],
      "metadata": {
        "id": "Xb2fS2wwzIv8"
      },
      "execution_count": 47,
      "outputs": []
    },
    {
      "cell_type": "markdown",
      "source": [
        "# Setting Index and Labeling Years\n",
        "- Set the index to the sorting code\n",
        "- Label the columns of each dataset with year"
      ],
      "metadata": {
        "id": "x4LAyN7Twhnr"
      }
    },
    {
      "cell_type": "code",
      "source": [
        "\n",
        "df_list = [df_2015, df_2016, df_2017, df_2018, df_2019, df_2020, df_2021, df_2022 ]\n",
        "year_list = [2015, 2016, 2017, 2018, 2019, 2020, 2021, 2022]\n",
        "\n",
        "\n",
        "for df, year in zip(df_list, year_list):\n",
        "\n",
        "  try:\n",
        "    df.set_index('Sorting Code', inplace=True)\n",
        "  except KeyError:\n",
        "    df.set_index('Level Code', inplace=True)\n",
        "  except:\n",
        "    df.set_index('Subsetting Code', inplace=True)\n",
        "\n",
        "  new_column_names = [f\"{col}_{year}\" for col in df.columns]\n",
        "  df.columns = new_column_names"
      ],
      "metadata": {
        "id": "7Pf8M51Ypvej"
      },
      "execution_count": 48,
      "outputs": []
    },
    {
      "cell_type": "markdown",
      "source": [
        "# Merging Datasets by Agency\n",
        "- Merging via inner join on the index of Agencies\n",
        "- Changing the column names to be coherent\n",
        "- Removing irrelevant columns"
      ],
      "metadata": {
        "id": "mEEbq8q2xuHK"
      }
    },
    {
      "cell_type": "code",
      "source": [
        "#adding the initially difficult data casuing an issue with the merging process the indexes dont match\n",
        "\n",
        "merged_df = pd.merge(df_2015, df_2016, left_index=True, right_index=True)\n",
        "merged_df = pd.merge(merged_df, df_2017, left_index=True, right_index=True)\n",
        "merged_df = pd.merge(merged_df, df_2018, left_index=True, right_index=True)\n",
        "merged_df = pd.merge(merged_df, df_2019, left_index=True, right_index=True)\n",
        "merged_df = pd.merge(merged_df, df_2020, left_index=True, right_index=True)\n",
        "# 2021 is missing a large amount of data and therefore is not applicable\n",
        "merged_df = pd.merge(merged_df, df_2022, left_index=True, right_index=True)\n",
        "\n",
        "#need to drop all agency columns except for one now and rename it, using 2018 as the standard\n",
        "#deleting by using coumn name and years we dont want\n",
        "\n",
        "year_list = [2015, 2016, 2017, 2019, 2020, 2022]\n",
        "for year in year_list:\n",
        "  merged_df.drop(f\"Agency & Subagency Name_{year}\", axis=1, inplace=True)\n",
        "\n",
        "#rename the 2018 to just standard name\n",
        "merged_df.rename(columns={'Agency & Subagency Name_2018': 'Agency & Subagency Name'}, inplace=True )\n",
        "\n",
        "\n",
        "# to clean the 2016 questionare out of the dataframe\n",
        "df_columns = merged_df.columns.tolist()\n",
        "\n",
        "for i in range(1, 85):\n",
        "    column_name = f'Q{i}_2016'\n",
        "    if column_name in df_columns:\n",
        "        merged_df.drop(column_name, axis=1, inplace=True)\n",
        "\n",
        "# a list of column names to replace and for future reference\n",
        "merged_df.columns = [\n",
        "    'Reporting Level_2015',\n",
        "    'Response Count_2015',\n",
        "    'Employee Engagement: Overall_2015',\n",
        "    'Employee Engagement: Leaders Lead_2015',\n",
        "    'Employee Engagement: Supervisors_2015',\n",
        "    'Employee Engagement: Intrinsic Work Experience_2015',\n",
        "    'HCAAF: Leadership and Knowledge Management_2015',\n",
        "    'HCAAF: Results-Oriented Performance Culture_2015',\n",
        "    'HCAAF: Talent Management_2015',\n",
        "    'HCAAF: Job Satisfaction_2015',\n",
        "    'New IQ: Overall_2015',\n",
        "    'New IQ: Fair_2015',\n",
        "    'New IQ: Open_2015',\n",
        "    'New IQ: Cooperative_2015',\n",
        "    'New IQ: Supportive_2015',\n",
        "    'New IQ: Empowered_2015',\n",
        "    'Global Satisfaction_2015',\n",
        "    'Reporting Level_2016',\n",
        "    'Response Count_2016',\n",
        "    'Employee Engagement: Overall_2016',\n",
        "    'Employee Engagement: Leaders Lead_2016',\n",
        "    'Employee Engagement: Supervisors_2016',\n",
        "    'Employee Engagement: Intrinsic Work Experience_2016',\n",
        "    'HCAAF: Leadership and Knowledge Management_2016',\n",
        "    'HCAAF: Results-Oriented Performance Culture_2016',\n",
        "    'HCAAF: Talent Management_2016',\n",
        "    'HCAAF: Job Satisfaction_2016',\n",
        "    'New IQ: Overall_2016',\n",
        "    'New IQ: Fair_2016',\n",
        "    'New IQ: Open_2016',\n",
        "    'New IQ: Cooperative_2016',\n",
        "    'New IQ: Supportive_2016',\n",
        "    'New IQ: Empowered_2016',\n",
        "    'Global Satisfaction_2016',\n",
        "    'Reporting Level_2017',\n",
        "    'Response Count_2017',\n",
        "    'Employee Engagement: Overall_2017',\n",
        "    'Employee Engagement: Leaders Lead_2017',\n",
        "    'Employee Engagement: Supervisors_2017',\n",
        "    'Employee Engagement: Intrinsic Work Experience_2017',\n",
        "    'Global Satisfaction_2017',\n",
        "    'New IQ: Overall_2017',\n",
        "    'New IQ: Fair_2017',\n",
        "    'New IQ: Open_2017',\n",
        "    'New IQ: Cooperative_2017',\n",
        "    'New IQ: Supportive_2017',\n",
        "    'New IQ: Empowered_2017',\n",
        "    'HCAAF: Leadership and Knowledge Management_2017',\n",
        "    'HCAAF: Results-Oriented Performance Culture_2017',\n",
        "    'HCAAF: Talent Management_2017',\n",
        "    'HCAAF: Job Satisfaction_2017',\n",
        "    'Agency & Subagency Name',\n",
        "    'Reporting Level_2018',\n",
        "    'Response Count_2018',\n",
        "    'Employee Engagement: Overall_2018',\n",
        "    'Employee Engagement: Leaders Lead_2018',\n",
        "    'Employee Engagement: Supervisors_2018',\n",
        "    'Employee Engagement: Intrinsic Work Experience_2018',\n",
        "    'Global Satisfaction_2018',\n",
        "    'New IQ: Overall_2018',\n",
        "    'New IQ: Fair_2018',\n",
        "    'New IQ: Open_2018',\n",
        "    'New IQ: Cooperative_2018',\n",
        "    'New IQ: Supportive_2018',\n",
        "    'New IQ: Empowering_2018',\n",
        "    'Reporting Level_2019',\n",
        "    'Response Count_2019',\n",
        "    'Employee Engagement: Overall_2019',\n",
        "    'Employee Engagement: Leaders Lead_2019',\n",
        "    'Employee Engagement: Supervisors_2019',\n",
        "    'Employee Engagement: Intrinsic Work Experience_2019',\n",
        "    'Global Satisfaction_2019',\n",
        "    'New IQ: Overall_2019',\n",
        "    'New IQ: Fair_2019',\n",
        "    'New IQ: Open_2019',\n",
        "    'New IQ: Cooperative_2019',\n",
        "    'New IQ: Supportive_2019',\n",
        "    'New IQ: Empowering_2019',\n",
        "    'Reporting Level_2020',\n",
        "    'Response Count_2020',\n",
        "    'Employee Engagement: Overall_2020',\n",
        "    'Employee Engagement: Leaders Lead_2020',\n",
        "    'Employee Engagement: Supervisors_2020',\n",
        "    'Employee Engagement: Intrinsic Work Experience_2020',\n",
        "    'Global Satisfaction_2020',\n",
        "    'Subsetting Code_2022',\n",
        "    'Reporting Level_2022',\n",
        "    'Response Count_2022',\n",
        "    'Employee Engagement: Overall_2022',\n",
        "    'Employee Engagement: Leaders Lead_2022',\n",
        "    'Employee Engagement: Supervisors_2022',\n",
        "    'Employee Engagement: Intrinsic Work Experience_2022',\n",
        "    'Global Satisfaction_2022',\n",
        "    'Performance Confidence_2022',\n",
        "    'DEIA: Overall_2022',\n",
        "    'DEIA: Diversity_2022',\n",
        "    'DEIA: Equity_2022',\n",
        "    'DEIA: Inclusion_2022',\n",
        "    'DEIA: Accessibility_2022']\n",
        "\n",
        "\n",
        "columns_to_drop = [ 'Performance Confidence_2022','DEIA: Overall_2022','DEIA: Diversity_2022', 'DEIA: Equity_2022', 'DEIA: Inclusion_2022', 'DEIA: Accessibility_2022']\n",
        "\n",
        "merged_df = merged_df.drop(columns=columns_to_drop)\n",
        "\n"
      ],
      "metadata": {
        "id": "mjeVrDbHp1j_"
      },
      "execution_count": 50,
      "outputs": []
    },
    {
      "cell_type": "markdown",
      "source": [
        "- Reset index of agencies to a column for download\n",
        "- move agency to the front"
      ],
      "metadata": {
        "id": "hsXIFL0f5JBW"
      }
    },
    {
      "cell_type": "code",
      "source": [
        "merged_df.reset_index(inplace=True)\n",
        "merged_df.rename(columns={'index': 'Sorting Code'}, inplace=True)\n",
        "\n",
        "\n",
        "# Identify the column you want to move\n",
        "column_name = 'Agency & Subagency Name'\n",
        "\n",
        "# Remove the column from its current position\n",
        "column = merged_df.pop(column_name)\n",
        "\n",
        "# Insert the column at the front of the DataFrame\n",
        "merged_df.insert(0, column_name, column)"
      ],
      "metadata": {
        "id": "aurXfLtQrYVu"
      },
      "execution_count": 52,
      "outputs": []
    },
    {
      "cell_type": "code",
      "source": [
        "merged_df.to_csv('full_FEVS.csv', index=False)\n"
      ],
      "metadata": {
        "id": "C6CS237IyIFI"
      },
      "execution_count": 53,
      "outputs": []
    },
    {
      "cell_type": "code",
      "source": [
        "files.download('full_FEVS.csv')"
      ],
      "metadata": {
        "colab": {
          "base_uri": "https://localhost:8080/",
          "height": 17
        },
        "id": "x30xTvalbnXF",
        "outputId": "aa0867aa-ad6b-4cc5-9160-f83e96263ee3"
      },
      "execution_count": 54,
      "outputs": [
        {
          "output_type": "display_data",
          "data": {
            "text/plain": [
              "<IPython.core.display.Javascript object>"
            ],
            "application/javascript": [
              "\n",
              "    async function download(id, filename, size) {\n",
              "      if (!google.colab.kernel.accessAllowed) {\n",
              "        return;\n",
              "      }\n",
              "      const div = document.createElement('div');\n",
              "      const label = document.createElement('label');\n",
              "      label.textContent = `Downloading \"${filename}\": `;\n",
              "      div.appendChild(label);\n",
              "      const progress = document.createElement('progress');\n",
              "      progress.max = size;\n",
              "      div.appendChild(progress);\n",
              "      document.body.appendChild(div);\n",
              "\n",
              "      const buffers = [];\n",
              "      let downloaded = 0;\n",
              "\n",
              "      const channel = await google.colab.kernel.comms.open(id);\n",
              "      // Send a message to notify the kernel that we're ready.\n",
              "      channel.send({})\n",
              "\n",
              "      for await (const message of channel.messages) {\n",
              "        // Send a message to notify the kernel that we're ready.\n",
              "        channel.send({})\n",
              "        if (message.buffers) {\n",
              "          for (const buffer of message.buffers) {\n",
              "            buffers.push(buffer);\n",
              "            downloaded += buffer.byteLength;\n",
              "            progress.value = downloaded;\n",
              "          }\n",
              "        }\n",
              "      }\n",
              "      const blob = new Blob(buffers, {type: 'application/binary'});\n",
              "      const a = document.createElement('a');\n",
              "      a.href = window.URL.createObjectURL(blob);\n",
              "      a.download = filename;\n",
              "      div.appendChild(a);\n",
              "      a.click();\n",
              "      div.remove();\n",
              "    }\n",
              "  "
            ]
          },
          "metadata": {}
        },
        {
          "output_type": "display_data",
          "data": {
            "text/plain": [
              "<IPython.core.display.Javascript object>"
            ],
            "application/javascript": [
              "download(\"download_b9bb6239-c706-4c6c-ab81-e80505be1079\", \"full_FEVS.csv\", 39297)"
            ]
          },
          "metadata": {}
        }
      ]
    }
  ]
}